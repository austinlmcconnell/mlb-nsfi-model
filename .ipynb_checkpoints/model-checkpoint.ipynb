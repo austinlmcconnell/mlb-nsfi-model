{
 "cells": [
  {
   "cell_type": "code",
   "execution_count": null,
   "id": "117dfbb8",
   "metadata": {},
   "outputs": [],
   "source": [
    "import streamlit as st\n",
    "import pandas as pd"
   ]
  },
  {
   "cell_type": "code",
   "execution_count": null,
   "id": "32f35378",
   "metadata": {},
   "outputs": [],
   "source": [
    "# Title of Streamlit application\n",
    "\n",
    "st.title('MLB First Inning Betting Dashboard')"
   ]
  },
  {
   "cell_type": "code",
   "execution_count": null,
   "id": "279ed9ae",
   "metadata": {},
   "outputs": [],
   "source": [
    "# Load the CSV file into a DataFrame\n",
    "\n",
    "csv_url = 'https://drive.google.com/uc?id=1y1XcRs91s3v4apGp77lLCFE17fFaxWu7'\n",
    "\n",
    "try:\n",
    "    output_df = pd.read_csv(csv_url)\n",
    "    \n",
    "    # Create a dictionary for easy lookup\n",
    "    \n",
    "    model_output_dict = output_df.set_index('game_id').T.to_dict('dict')\n",
    "    \n",
    "except Exception as e:\n",
    "    print(f\"Error loading or processing the CSV file: {e}\")\n",
    "    model_output_dict = {}"
   ]
  },
  {
   "cell_type": "code",
   "execution_count": null,
   "id": "1ada4713",
   "metadata": {},
   "outputs": [],
   "source": [
    "# Dropdown menu to select a game\n",
    "\n",
    "game_ids = output_df['game_id'].unique()\n",
    "selected_game = st.selectbox(\"Select a Game:\", game_ids)"
   ]
  },
  {
   "cell_type": "code",
   "execution_count": null,
   "id": "83db30d8",
   "metadata": {},
   "outputs": [],
   "source": [
    "# Display the probabilities and expected value of bets for the selected game\n",
    "\n",
    "if selected_game:\n",
    "    output = model_output_dict.get(selected_game, {})\n",
    "    if output:\n",
    "        st.write(f\"**Game ID:** {selected_game}\")\n",
    "        st.write(f\"**Probability of No Strikeouts:** {output['probability_no_strikeouts']:.2f}\")\n",
    "        st.write(f\"**Implied Probability from Betting Odds:** {output['implied_probability_no_strikeouts']:.2f}\")\n",
    "        st.write(f\"**Expected Value:** {output['ev_no_strikeouts']:.2f}\")\n",
    "        \n",
    "        st.write('')  # Adding a gap\n",
    "        \n",
    "        st.write(f\"**Game ID:** {selected_game}\")\n",
    "        st.write(f\"**Probability of No Hits:** {output['probability_no_hits']:.2f}\")\n",
    "        st.write(f\"**Implied Probability from Betting Odds:** {output['implied_probability_no_hits']:.2f}\")\n",
    "        st.write(f\"**Expected Value:** {output['ev_no_hits']:.2f}\")\n",
    "        \n",
    "        st.write('')  # Adding a gap\n",
    "        \n",
    "        st.write(f\"**Game ID:** {selected_game}\")\n",
    "        st.write(f\"**Probability of Less Than Four Batters:** {output['probability_under_four_batters_to_plate']:.2f}\")\n",
    "        st.write(f\"**Implied Probability from Betting Odds:** {output['implied_probability_under_four_batters_to_plate']:.2f}\")\n",
    "        st.write(f\"**Expected Value:** {output['ev_under_four_batters_to_plate']:.2f}\")\n",
    "    else:\n",
    "        st.write(\"No data available for the selected game.\")"
   ]
  }
 ],
 "metadata": {
  "kernelspec": {
   "display_name": "Python 3 (ipykernel)",
   "language": "python",
   "name": "python3"
  },
  "language_info": {
   "codemirror_mode": {
    "name": "ipython",
    "version": 3
   },
   "file_extension": ".py",
   "mimetype": "text/x-python",
   "name": "python",
   "nbconvert_exporter": "python",
   "pygments_lexer": "ipython3",
   "version": "3.10.13"
  }
 },
 "nbformat": 4,
 "nbformat_minor": 5
}
